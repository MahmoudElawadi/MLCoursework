{
  "cells": [
    {
      "cell_type": "markdown",
      "metadata": {
        "id": "015gNSTHTlzA"
      },
      "source": [
        "# Importing The Libraries\n"
      ]
    },
    {
      "cell_type": "code",
      "execution_count": null,
      "metadata": {
        "id": "XPEtyTMzTlzI"
      },
      "outputs": [],
      "source": [
        "# Importing the pandas module for data manipulation and analysis\n",
        "import pandas as pd\n",
        "\n",
        "# Importing the NumPy module for fast operations on arrays, including mathematical, logical, shape manipulation, sorting, and selecting\n",
        "import numpy as np\n",
        "\n",
        "# Importing the pyplot module from Matplotlib for creating a variety of charts and plots\n",
        "import matplotlib.pyplot as plt\n",
        "\n",
        "# Import the seaborn library as \"sns\" for data visualization and statistical analysis\n",
        "import seaborn as sns\n",
        "\n",
        "# Import the TensorFlow library as \"tf\" for convenience\n",
        "import tensorflow as tf\n"
      ]
    },
    {
      "cell_type": "markdown",
      "metadata": {
        "id": "6TewTqsCTlzO"
      },
      "source": [
        "# Importing the dataset"
      ]
    },
    {
      "cell_type": "code",
      "execution_count": null,
      "metadata": {
        "id": "P88SOzVNTlzP"
      },
      "outputs": [],
      "source": [
        "dataset = pd.read_csv('Airlines.csv')\n"
      ]
    },
    {
      "cell_type": "markdown",
      "metadata": {
        "id": "fFfoubeaTlzu"
      },
      "source": [
        "# Return the first 5 rows of the dataset"
      ]
    },
    {
      "cell_type": "code",
      "execution_count": null,
      "metadata": {
        "colab": {
          "base_uri": "https://localhost:8080/",
          "height": 206
        },
        "id": "7p4iliaJTlzv",
        "outputId": "b7aeac8f-3c11-4421-e1e6-aabb21aab764"
      },
      "outputs": [
        {
          "output_type": "execute_result",
          "data": {
            "text/plain": [
              "   id Airline  Flight AirportFrom AirportTo  DayOfWeek  Time  Length  Delay\n",
              "0   1      CO     269         SFO       IAH          3    15     205      1\n",
              "1   2      US    1558         PHX       CLT          3    15     222      1\n",
              "2   3      AA    2400         LAX       DFW          3    20     165      1\n",
              "3   4      AA    2466         SFO       DFW          3    20     195      1\n",
              "4   5      AS     108         ANC       SEA          3    30     202      0"
            ],
            "text/html": [
              "\n",
              "  <div id=\"df-2682acca-ec62-429d-b1a0-8aa5cbb6c376\" class=\"colab-df-container\">\n",
              "    <div>\n",
              "<style scoped>\n",
              "    .dataframe tbody tr th:only-of-type {\n",
              "        vertical-align: middle;\n",
              "    }\n",
              "\n",
              "    .dataframe tbody tr th {\n",
              "        vertical-align: top;\n",
              "    }\n",
              "\n",
              "    .dataframe thead th {\n",
              "        text-align: right;\n",
              "    }\n",
              "</style>\n",
              "<table border=\"1\" class=\"dataframe\">\n",
              "  <thead>\n",
              "    <tr style=\"text-align: right;\">\n",
              "      <th></th>\n",
              "      <th>id</th>\n",
              "      <th>Airline</th>\n",
              "      <th>Flight</th>\n",
              "      <th>AirportFrom</th>\n",
              "      <th>AirportTo</th>\n",
              "      <th>DayOfWeek</th>\n",
              "      <th>Time</th>\n",
              "      <th>Length</th>\n",
              "      <th>Delay</th>\n",
              "    </tr>\n",
              "  </thead>\n",
              "  <tbody>\n",
              "    <tr>\n",
              "      <th>0</th>\n",
              "      <td>1</td>\n",
              "      <td>CO</td>\n",
              "      <td>269</td>\n",
              "      <td>SFO</td>\n",
              "      <td>IAH</td>\n",
              "      <td>3</td>\n",
              "      <td>15</td>\n",
              "      <td>205</td>\n",
              "      <td>1</td>\n",
              "    </tr>\n",
              "    <tr>\n",
              "      <th>1</th>\n",
              "      <td>2</td>\n",
              "      <td>US</td>\n",
              "      <td>1558</td>\n",
              "      <td>PHX</td>\n",
              "      <td>CLT</td>\n",
              "      <td>3</td>\n",
              "      <td>15</td>\n",
              "      <td>222</td>\n",
              "      <td>1</td>\n",
              "    </tr>\n",
              "    <tr>\n",
              "      <th>2</th>\n",
              "      <td>3</td>\n",
              "      <td>AA</td>\n",
              "      <td>2400</td>\n",
              "      <td>LAX</td>\n",
              "      <td>DFW</td>\n",
              "      <td>3</td>\n",
              "      <td>20</td>\n",
              "      <td>165</td>\n",
              "      <td>1</td>\n",
              "    </tr>\n",
              "    <tr>\n",
              "      <th>3</th>\n",
              "      <td>4</td>\n",
              "      <td>AA</td>\n",
              "      <td>2466</td>\n",
              "      <td>SFO</td>\n",
              "      <td>DFW</td>\n",
              "      <td>3</td>\n",
              "      <td>20</td>\n",
              "      <td>195</td>\n",
              "      <td>1</td>\n",
              "    </tr>\n",
              "    <tr>\n",
              "      <th>4</th>\n",
              "      <td>5</td>\n",
              "      <td>AS</td>\n",
              "      <td>108</td>\n",
              "      <td>ANC</td>\n",
              "      <td>SEA</td>\n",
              "      <td>3</td>\n",
              "      <td>30</td>\n",
              "      <td>202</td>\n",
              "      <td>0</td>\n",
              "    </tr>\n",
              "  </tbody>\n",
              "</table>\n",
              "</div>\n",
              "    <div class=\"colab-df-buttons\">\n",
              "\n",
              "  <div class=\"colab-df-container\">\n",
              "    <button class=\"colab-df-convert\" onclick=\"convertToInteractive('df-2682acca-ec62-429d-b1a0-8aa5cbb6c376')\"\n",
              "            title=\"Convert this dataframe to an interactive table.\"\n",
              "            style=\"display:none;\">\n",
              "\n",
              "  <svg xmlns=\"http://www.w3.org/2000/svg\" height=\"24px\" viewBox=\"0 -960 960 960\">\n",
              "    <path d=\"M120-120v-720h720v720H120Zm60-500h600v-160H180v160Zm220 220h160v-160H400v160Zm0 220h160v-160H400v160ZM180-400h160v-160H180v160Zm440 0h160v-160H620v160ZM180-180h160v-160H180v160Zm440 0h160v-160H620v160Z\"/>\n",
              "  </svg>\n",
              "    </button>\n",
              "\n",
              "  <style>\n",
              "    .colab-df-container {\n",
              "      display:flex;\n",
              "      gap: 12px;\n",
              "    }\n",
              "\n",
              "    .colab-df-convert {\n",
              "      background-color: #E8F0FE;\n",
              "      border: none;\n",
              "      border-radius: 50%;\n",
              "      cursor: pointer;\n",
              "      display: none;\n",
              "      fill: #1967D2;\n",
              "      height: 32px;\n",
              "      padding: 0 0 0 0;\n",
              "      width: 32px;\n",
              "    }\n",
              "\n",
              "    .colab-df-convert:hover {\n",
              "      background-color: #E2EBFA;\n",
              "      box-shadow: 0px 1px 2px rgba(60, 64, 67, 0.3), 0px 1px 3px 1px rgba(60, 64, 67, 0.15);\n",
              "      fill: #174EA6;\n",
              "    }\n",
              "\n",
              "    .colab-df-buttons div {\n",
              "      margin-bottom: 4px;\n",
              "    }\n",
              "\n",
              "    [theme=dark] .colab-df-convert {\n",
              "      background-color: #3B4455;\n",
              "      fill: #D2E3FC;\n",
              "    }\n",
              "\n",
              "    [theme=dark] .colab-df-convert:hover {\n",
              "      background-color: #434B5C;\n",
              "      box-shadow: 0px 1px 3px 1px rgba(0, 0, 0, 0.15);\n",
              "      filter: drop-shadow(0px 1px 2px rgba(0, 0, 0, 0.3));\n",
              "      fill: #FFFFFF;\n",
              "    }\n",
              "  </style>\n",
              "\n",
              "    <script>\n",
              "      const buttonEl =\n",
              "        document.querySelector('#df-2682acca-ec62-429d-b1a0-8aa5cbb6c376 button.colab-df-convert');\n",
              "      buttonEl.style.display =\n",
              "        google.colab.kernel.accessAllowed ? 'block' : 'none';\n",
              "\n",
              "      async function convertToInteractive(key) {\n",
              "        const element = document.querySelector('#df-2682acca-ec62-429d-b1a0-8aa5cbb6c376');\n",
              "        const dataTable =\n",
              "          await google.colab.kernel.invokeFunction('convertToInteractive',\n",
              "                                                    [key], {});\n",
              "        if (!dataTable) return;\n",
              "\n",
              "        const docLinkHtml = 'Like what you see? Visit the ' +\n",
              "          '<a target=\"_blank\" href=https://colab.research.google.com/notebooks/data_table.ipynb>data table notebook</a>'\n",
              "          + ' to learn more about interactive tables.';\n",
              "        element.innerHTML = '';\n",
              "        dataTable['output_type'] = 'display_data';\n",
              "        await google.colab.output.renderOutput(dataTable, element);\n",
              "        const docLink = document.createElement('div');\n",
              "        docLink.innerHTML = docLinkHtml;\n",
              "        element.appendChild(docLink);\n",
              "      }\n",
              "    </script>\n",
              "  </div>\n",
              "\n",
              "\n",
              "<div id=\"df-f6728aa3-8e78-48a2-9bb5-aecfc4aaf3df\">\n",
              "  <button class=\"colab-df-quickchart\" onclick=\"quickchart('df-f6728aa3-8e78-48a2-9bb5-aecfc4aaf3df')\"\n",
              "            title=\"Suggest charts\"\n",
              "            style=\"display:none;\">\n",
              "\n",
              "<svg xmlns=\"http://www.w3.org/2000/svg\" height=\"24px\"viewBox=\"0 0 24 24\"\n",
              "     width=\"24px\">\n",
              "    <g>\n",
              "        <path d=\"M19 3H5c-1.1 0-2 .9-2 2v14c0 1.1.9 2 2 2h14c1.1 0 2-.9 2-2V5c0-1.1-.9-2-2-2zM9 17H7v-7h2v7zm4 0h-2V7h2v10zm4 0h-2v-4h2v4z\"/>\n",
              "    </g>\n",
              "</svg>\n",
              "  </button>\n",
              "\n",
              "<style>\n",
              "  .colab-df-quickchart {\n",
              "      --bg-color: #E8F0FE;\n",
              "      --fill-color: #1967D2;\n",
              "      --hover-bg-color: #E2EBFA;\n",
              "      --hover-fill-color: #174EA6;\n",
              "      --disabled-fill-color: #AAA;\n",
              "      --disabled-bg-color: #DDD;\n",
              "  }\n",
              "\n",
              "  [theme=dark] .colab-df-quickchart {\n",
              "      --bg-color: #3B4455;\n",
              "      --fill-color: #D2E3FC;\n",
              "      --hover-bg-color: #434B5C;\n",
              "      --hover-fill-color: #FFFFFF;\n",
              "      --disabled-bg-color: #3B4455;\n",
              "      --disabled-fill-color: #666;\n",
              "  }\n",
              "\n",
              "  .colab-df-quickchart {\n",
              "    background-color: var(--bg-color);\n",
              "    border: none;\n",
              "    border-radius: 50%;\n",
              "    cursor: pointer;\n",
              "    display: none;\n",
              "    fill: var(--fill-color);\n",
              "    height: 32px;\n",
              "    padding: 0;\n",
              "    width: 32px;\n",
              "  }\n",
              "\n",
              "  .colab-df-quickchart:hover {\n",
              "    background-color: var(--hover-bg-color);\n",
              "    box-shadow: 0 1px 2px rgba(60, 64, 67, 0.3), 0 1px 3px 1px rgba(60, 64, 67, 0.15);\n",
              "    fill: var(--button-hover-fill-color);\n",
              "  }\n",
              "\n",
              "  .colab-df-quickchart-complete:disabled,\n",
              "  .colab-df-quickchart-complete:disabled:hover {\n",
              "    background-color: var(--disabled-bg-color);\n",
              "    fill: var(--disabled-fill-color);\n",
              "    box-shadow: none;\n",
              "  }\n",
              "\n",
              "  .colab-df-spinner {\n",
              "    border: 2px solid var(--fill-color);\n",
              "    border-color: transparent;\n",
              "    border-bottom-color: var(--fill-color);\n",
              "    animation:\n",
              "      spin 1s steps(1) infinite;\n",
              "  }\n",
              "\n",
              "  @keyframes spin {\n",
              "    0% {\n",
              "      border-color: transparent;\n",
              "      border-bottom-color: var(--fill-color);\n",
              "      border-left-color: var(--fill-color);\n",
              "    }\n",
              "    20% {\n",
              "      border-color: transparent;\n",
              "      border-left-color: var(--fill-color);\n",
              "      border-top-color: var(--fill-color);\n",
              "    }\n",
              "    30% {\n",
              "      border-color: transparent;\n",
              "      border-left-color: var(--fill-color);\n",
              "      border-top-color: var(--fill-color);\n",
              "      border-right-color: var(--fill-color);\n",
              "    }\n",
              "    40% {\n",
              "      border-color: transparent;\n",
              "      border-right-color: var(--fill-color);\n",
              "      border-top-color: var(--fill-color);\n",
              "    }\n",
              "    60% {\n",
              "      border-color: transparent;\n",
              "      border-right-color: var(--fill-color);\n",
              "    }\n",
              "    80% {\n",
              "      border-color: transparent;\n",
              "      border-right-color: var(--fill-color);\n",
              "      border-bottom-color: var(--fill-color);\n",
              "    }\n",
              "    90% {\n",
              "      border-color: transparent;\n",
              "      border-bottom-color: var(--fill-color);\n",
              "    }\n",
              "  }\n",
              "</style>\n",
              "\n",
              "  <script>\n",
              "    async function quickchart(key) {\n",
              "      const quickchartButtonEl =\n",
              "        document.querySelector('#' + key + ' button');\n",
              "      quickchartButtonEl.disabled = true;  // To prevent multiple clicks.\n",
              "      quickchartButtonEl.classList.add('colab-df-spinner');\n",
              "      try {\n",
              "        const charts = await google.colab.kernel.invokeFunction(\n",
              "            'suggestCharts', [key], {});\n",
              "      } catch (error) {\n",
              "        console.error('Error during call to suggestCharts:', error);\n",
              "      }\n",
              "      quickchartButtonEl.classList.remove('colab-df-spinner');\n",
              "      quickchartButtonEl.classList.add('colab-df-quickchart-complete');\n",
              "    }\n",
              "    (() => {\n",
              "      let quickchartButtonEl =\n",
              "        document.querySelector('#df-f6728aa3-8e78-48a2-9bb5-aecfc4aaf3df button');\n",
              "      quickchartButtonEl.style.display =\n",
              "        google.colab.kernel.accessAllowed ? 'block' : 'none';\n",
              "    })();\n",
              "  </script>\n",
              "</div>\n",
              "    </div>\n",
              "  </div>\n"
            ]
          },
          "metadata": {},
          "execution_count": 3
        }
      ],
      "source": [
        "dataset.head()"
      ]
    },
    {
      "cell_type": "markdown",
      "metadata": {
        "id": "VQJnUz8nTlzx"
      },
      "source": [
        "# Return the last 5 rows of the dataset"
      ]
    },
    {
      "cell_type": "code",
      "execution_count": null,
      "metadata": {
        "colab": {
          "base_uri": "https://localhost:8080/",
          "height": 206
        },
        "id": "xDMeito5Tlzx",
        "outputId": "16e47e94-1b40-4c54-fd5d-b56df395bf8a"
      },
      "outputs": [
        {
          "output_type": "execute_result",
          "data": {
            "text/plain": [
              "            id Airline  Flight AirportFrom AirportTo  DayOfWeek  Time  Length  \\\n",
              "539378  539379      CO     178         OGG       SNA          5  1439     326   \n",
              "539379  539380      FL     398         SEA       ATL          5  1439     305   \n",
              "539380  539381      FL     609         SFO       MKE          5  1439     255   \n",
              "539381  539382      UA      78         HNL       SFO          5  1439     313   \n",
              "539382  539383      US    1442         LAX       PHL          5  1439     301   \n",
              "\n",
              "        Delay  \n",
              "539378      0  \n",
              "539379      0  \n",
              "539380      0  \n",
              "539381      1  \n",
              "539382      1  "
            ],
            "text/html": [
              "\n",
              "  <div id=\"df-eba702e2-1987-4076-841f-5919a101db66\" class=\"colab-df-container\">\n",
              "    <div>\n",
              "<style scoped>\n",
              "    .dataframe tbody tr th:only-of-type {\n",
              "        vertical-align: middle;\n",
              "    }\n",
              "\n",
              "    .dataframe tbody tr th {\n",
              "        vertical-align: top;\n",
              "    }\n",
              "\n",
              "    .dataframe thead th {\n",
              "        text-align: right;\n",
              "    }\n",
              "</style>\n",
              "<table border=\"1\" class=\"dataframe\">\n",
              "  <thead>\n",
              "    <tr style=\"text-align: right;\">\n",
              "      <th></th>\n",
              "      <th>id</th>\n",
              "      <th>Airline</th>\n",
              "      <th>Flight</th>\n",
              "      <th>AirportFrom</th>\n",
              "      <th>AirportTo</th>\n",
              "      <th>DayOfWeek</th>\n",
              "      <th>Time</th>\n",
              "      <th>Length</th>\n",
              "      <th>Delay</th>\n",
              "    </tr>\n",
              "  </thead>\n",
              "  <tbody>\n",
              "    <tr>\n",
              "      <th>539378</th>\n",
              "      <td>539379</td>\n",
              "      <td>CO</td>\n",
              "      <td>178</td>\n",
              "      <td>OGG</td>\n",
              "      <td>SNA</td>\n",
              "      <td>5</td>\n",
              "      <td>1439</td>\n",
              "      <td>326</td>\n",
              "      <td>0</td>\n",
              "    </tr>\n",
              "    <tr>\n",
              "      <th>539379</th>\n",
              "      <td>539380</td>\n",
              "      <td>FL</td>\n",
              "      <td>398</td>\n",
              "      <td>SEA</td>\n",
              "      <td>ATL</td>\n",
              "      <td>5</td>\n",
              "      <td>1439</td>\n",
              "      <td>305</td>\n",
              "      <td>0</td>\n",
              "    </tr>\n",
              "    <tr>\n",
              "      <th>539380</th>\n",
              "      <td>539381</td>\n",
              "      <td>FL</td>\n",
              "      <td>609</td>\n",
              "      <td>SFO</td>\n",
              "      <td>MKE</td>\n",
              "      <td>5</td>\n",
              "      <td>1439</td>\n",
              "      <td>255</td>\n",
              "      <td>0</td>\n",
              "    </tr>\n",
              "    <tr>\n",
              "      <th>539381</th>\n",
              "      <td>539382</td>\n",
              "      <td>UA</td>\n",
              "      <td>78</td>\n",
              "      <td>HNL</td>\n",
              "      <td>SFO</td>\n",
              "      <td>5</td>\n",
              "      <td>1439</td>\n",
              "      <td>313</td>\n",
              "      <td>1</td>\n",
              "    </tr>\n",
              "    <tr>\n",
              "      <th>539382</th>\n",
              "      <td>539383</td>\n",
              "      <td>US</td>\n",
              "      <td>1442</td>\n",
              "      <td>LAX</td>\n",
              "      <td>PHL</td>\n",
              "      <td>5</td>\n",
              "      <td>1439</td>\n",
              "      <td>301</td>\n",
              "      <td>1</td>\n",
              "    </tr>\n",
              "  </tbody>\n",
              "</table>\n",
              "</div>\n",
              "    <div class=\"colab-df-buttons\">\n",
              "\n",
              "  <div class=\"colab-df-container\">\n",
              "    <button class=\"colab-df-convert\" onclick=\"convertToInteractive('df-eba702e2-1987-4076-841f-5919a101db66')\"\n",
              "            title=\"Convert this dataframe to an interactive table.\"\n",
              "            style=\"display:none;\">\n",
              "\n",
              "  <svg xmlns=\"http://www.w3.org/2000/svg\" height=\"24px\" viewBox=\"0 -960 960 960\">\n",
              "    <path d=\"M120-120v-720h720v720H120Zm60-500h600v-160H180v160Zm220 220h160v-160H400v160Zm0 220h160v-160H400v160ZM180-400h160v-160H180v160Zm440 0h160v-160H620v160ZM180-180h160v-160H180v160Zm440 0h160v-160H620v160Z\"/>\n",
              "  </svg>\n",
              "    </button>\n",
              "\n",
              "  <style>\n",
              "    .colab-df-container {\n",
              "      display:flex;\n",
              "      gap: 12px;\n",
              "    }\n",
              "\n",
              "    .colab-df-convert {\n",
              "      background-color: #E8F0FE;\n",
              "      border: none;\n",
              "      border-radius: 50%;\n",
              "      cursor: pointer;\n",
              "      display: none;\n",
              "      fill: #1967D2;\n",
              "      height: 32px;\n",
              "      padding: 0 0 0 0;\n",
              "      width: 32px;\n",
              "    }\n",
              "\n",
              "    .colab-df-convert:hover {\n",
              "      background-color: #E2EBFA;\n",
              "      box-shadow: 0px 1px 2px rgba(60, 64, 67, 0.3), 0px 1px 3px 1px rgba(60, 64, 67, 0.15);\n",
              "      fill: #174EA6;\n",
              "    }\n",
              "\n",
              "    .colab-df-buttons div {\n",
              "      margin-bottom: 4px;\n",
              "    }\n",
              "\n",
              "    [theme=dark] .colab-df-convert {\n",
              "      background-color: #3B4455;\n",
              "      fill: #D2E3FC;\n",
              "    }\n",
              "\n",
              "    [theme=dark] .colab-df-convert:hover {\n",
              "      background-color: #434B5C;\n",
              "      box-shadow: 0px 1px 3px 1px rgba(0, 0, 0, 0.15);\n",
              "      filter: drop-shadow(0px 1px 2px rgba(0, 0, 0, 0.3));\n",
              "      fill: #FFFFFF;\n",
              "    }\n",
              "  </style>\n",
              "\n",
              "    <script>\n",
              "      const buttonEl =\n",
              "        document.querySelector('#df-eba702e2-1987-4076-841f-5919a101db66 button.colab-df-convert');\n",
              "      buttonEl.style.display =\n",
              "        google.colab.kernel.accessAllowed ? 'block' : 'none';\n",
              "\n",
              "      async function convertToInteractive(key) {\n",
              "        const element = document.querySelector('#df-eba702e2-1987-4076-841f-5919a101db66');\n",
              "        const dataTable =\n",
              "          await google.colab.kernel.invokeFunction('convertToInteractive',\n",
              "                                                    [key], {});\n",
              "        if (!dataTable) return;\n",
              "\n",
              "        const docLinkHtml = 'Like what you see? Visit the ' +\n",
              "          '<a target=\"_blank\" href=https://colab.research.google.com/notebooks/data_table.ipynb>data table notebook</a>'\n",
              "          + ' to learn more about interactive tables.';\n",
              "        element.innerHTML = '';\n",
              "        dataTable['output_type'] = 'display_data';\n",
              "        await google.colab.output.renderOutput(dataTable, element);\n",
              "        const docLink = document.createElement('div');\n",
              "        docLink.innerHTML = docLinkHtml;\n",
              "        element.appendChild(docLink);\n",
              "      }\n",
              "    </script>\n",
              "  </div>\n",
              "\n",
              "\n",
              "<div id=\"df-fe63b907-f0c0-4cbb-bb32-17e4075f83b0\">\n",
              "  <button class=\"colab-df-quickchart\" onclick=\"quickchart('df-fe63b907-f0c0-4cbb-bb32-17e4075f83b0')\"\n",
              "            title=\"Suggest charts\"\n",
              "            style=\"display:none;\">\n",
              "\n",
              "<svg xmlns=\"http://www.w3.org/2000/svg\" height=\"24px\"viewBox=\"0 0 24 24\"\n",
              "     width=\"24px\">\n",
              "    <g>\n",
              "        <path d=\"M19 3H5c-1.1 0-2 .9-2 2v14c0 1.1.9 2 2 2h14c1.1 0 2-.9 2-2V5c0-1.1-.9-2-2-2zM9 17H7v-7h2v7zm4 0h-2V7h2v10zm4 0h-2v-4h2v4z\"/>\n",
              "    </g>\n",
              "</svg>\n",
              "  </button>\n",
              "\n",
              "<style>\n",
              "  .colab-df-quickchart {\n",
              "      --bg-color: #E8F0FE;\n",
              "      --fill-color: #1967D2;\n",
              "      --hover-bg-color: #E2EBFA;\n",
              "      --hover-fill-color: #174EA6;\n",
              "      --disabled-fill-color: #AAA;\n",
              "      --disabled-bg-color: #DDD;\n",
              "  }\n",
              "\n",
              "  [theme=dark] .colab-df-quickchart {\n",
              "      --bg-color: #3B4455;\n",
              "      --fill-color: #D2E3FC;\n",
              "      --hover-bg-color: #434B5C;\n",
              "      --hover-fill-color: #FFFFFF;\n",
              "      --disabled-bg-color: #3B4455;\n",
              "      --disabled-fill-color: #666;\n",
              "  }\n",
              "\n",
              "  .colab-df-quickchart {\n",
              "    background-color: var(--bg-color);\n",
              "    border: none;\n",
              "    border-radius: 50%;\n",
              "    cursor: pointer;\n",
              "    display: none;\n",
              "    fill: var(--fill-color);\n",
              "    height: 32px;\n",
              "    padding: 0;\n",
              "    width: 32px;\n",
              "  }\n",
              "\n",
              "  .colab-df-quickchart:hover {\n",
              "    background-color: var(--hover-bg-color);\n",
              "    box-shadow: 0 1px 2px rgba(60, 64, 67, 0.3), 0 1px 3px 1px rgba(60, 64, 67, 0.15);\n",
              "    fill: var(--button-hover-fill-color);\n",
              "  }\n",
              "\n",
              "  .colab-df-quickchart-complete:disabled,\n",
              "  .colab-df-quickchart-complete:disabled:hover {\n",
              "    background-color: var(--disabled-bg-color);\n",
              "    fill: var(--disabled-fill-color);\n",
              "    box-shadow: none;\n",
              "  }\n",
              "\n",
              "  .colab-df-spinner {\n",
              "    border: 2px solid var(--fill-color);\n",
              "    border-color: transparent;\n",
              "    border-bottom-color: var(--fill-color);\n",
              "    animation:\n",
              "      spin 1s steps(1) infinite;\n",
              "  }\n",
              "\n",
              "  @keyframes spin {\n",
              "    0% {\n",
              "      border-color: transparent;\n",
              "      border-bottom-color: var(--fill-color);\n",
              "      border-left-color: var(--fill-color);\n",
              "    }\n",
              "    20% {\n",
              "      border-color: transparent;\n",
              "      border-left-color: var(--fill-color);\n",
              "      border-top-color: var(--fill-color);\n",
              "    }\n",
              "    30% {\n",
              "      border-color: transparent;\n",
              "      border-left-color: var(--fill-color);\n",
              "      border-top-color: var(--fill-color);\n",
              "      border-right-color: var(--fill-color);\n",
              "    }\n",
              "    40% {\n",
              "      border-color: transparent;\n",
              "      border-right-color: var(--fill-color);\n",
              "      border-top-color: var(--fill-color);\n",
              "    }\n",
              "    60% {\n",
              "      border-color: transparent;\n",
              "      border-right-color: var(--fill-color);\n",
              "    }\n",
              "    80% {\n",
              "      border-color: transparent;\n",
              "      border-right-color: var(--fill-color);\n",
              "      border-bottom-color: var(--fill-color);\n",
              "    }\n",
              "    90% {\n",
              "      border-color: transparent;\n",
              "      border-bottom-color: var(--fill-color);\n",
              "    }\n",
              "  }\n",
              "</style>\n",
              "\n",
              "  <script>\n",
              "    async function quickchart(key) {\n",
              "      const quickchartButtonEl =\n",
              "        document.querySelector('#' + key + ' button');\n",
              "      quickchartButtonEl.disabled = true;  // To prevent multiple clicks.\n",
              "      quickchartButtonEl.classList.add('colab-df-spinner');\n",
              "      try {\n",
              "        const charts = await google.colab.kernel.invokeFunction(\n",
              "            'suggestCharts', [key], {});\n",
              "      } catch (error) {\n",
              "        console.error('Error during call to suggestCharts:', error);\n",
              "      }\n",
              "      quickchartButtonEl.classList.remove('colab-df-spinner');\n",
              "      quickchartButtonEl.classList.add('colab-df-quickchart-complete');\n",
              "    }\n",
              "    (() => {\n",
              "      let quickchartButtonEl =\n",
              "        document.querySelector('#df-fe63b907-f0c0-4cbb-bb32-17e4075f83b0 button');\n",
              "      quickchartButtonEl.style.display =\n",
              "        google.colab.kernel.accessAllowed ? 'block' : 'none';\n",
              "    })();\n",
              "  </script>\n",
              "</div>\n",
              "    </div>\n",
              "  </div>\n"
            ]
          },
          "metadata": {},
          "execution_count": 4
        }
      ],
      "source": [
        "dataset.tail()"
      ]
    },
    {
      "cell_type": "markdown",
      "metadata": {
        "id": "aTpPqyxATlzQ"
      },
      "source": [
        "# Choosing the top 160,000 rows and loading the dataset."
      ]
    },
    {
      "cell_type": "code",
      "execution_count": null,
      "metadata": {
        "colab": {
          "base_uri": "https://localhost:8080/",
          "height": 423
        },
        "id": "n6n2UaOETlzR",
        "outputId": "875800cb-01cc-4daa-caa1-9ade09d46c49"
      },
      "outputs": [
        {
          "output_type": "execute_result",
          "data": {
            "text/plain": [
              "            id Airline  Flight AirportFrom AirportTo  DayOfWeek   Time  \\\n",
              "0            1      CO     269         SFO       IAH          3   15.0   \n",
              "1            2      US    1558         PHX       CLT          3   15.0   \n",
              "2            3      AA    2400         LAX       DFW          3   20.0   \n",
              "3            4      AA    2466         SFO       DFW          3   20.0   \n",
              "4            5      AS     108         ANC       SEA          3   30.0   \n",
              "...        ...     ...     ...         ...       ...        ...    ...   \n",
              "159995  159996      9E    3949         DTW       MLI          5  540.0   \n",
              "159996  159997      9E    3970         MEM       CMH          5  540.0   \n",
              "159997  159998      9E    3974         DTW       IND          5  540.0   \n",
              "159998  159999      9E    4388         DTW       MSN          5  540.0   \n",
              "159999  160000      AA    1394         DFW       FLL          5  540.0   \n",
              "\n",
              "        Length  Delay  \n",
              "0        205.0      1  \n",
              "1        222.0      1  \n",
              "2        165.0      1  \n",
              "3        195.0      1  \n",
              "4        202.0      0  \n",
              "...        ...    ...  \n",
              "159995    94.0      0  \n",
              "159996   106.0      0  \n",
              "159997    83.0      0  \n",
              "159998    87.0      0  \n",
              "159999   155.0      0  \n",
              "\n",
              "[160000 rows x 9 columns]"
            ],
            "text/html": [
              "\n",
              "  <div id=\"df-f87a875a-677b-41b8-8791-223304768c2c\" class=\"colab-df-container\">\n",
              "    <div>\n",
              "<style scoped>\n",
              "    .dataframe tbody tr th:only-of-type {\n",
              "        vertical-align: middle;\n",
              "    }\n",
              "\n",
              "    .dataframe tbody tr th {\n",
              "        vertical-align: top;\n",
              "    }\n",
              "\n",
              "    .dataframe thead th {\n",
              "        text-align: right;\n",
              "    }\n",
              "</style>\n",
              "<table border=\"1\" class=\"dataframe\">\n",
              "  <thead>\n",
              "    <tr style=\"text-align: right;\">\n",
              "      <th></th>\n",
              "      <th>id</th>\n",
              "      <th>Airline</th>\n",
              "      <th>Flight</th>\n",
              "      <th>AirportFrom</th>\n",
              "      <th>AirportTo</th>\n",
              "      <th>DayOfWeek</th>\n",
              "      <th>Time</th>\n",
              "      <th>Length</th>\n",
              "      <th>Delay</th>\n",
              "    </tr>\n",
              "  </thead>\n",
              "  <tbody>\n",
              "    <tr>\n",
              "      <th>0</th>\n",
              "      <td>1</td>\n",
              "      <td>CO</td>\n",
              "      <td>269</td>\n",
              "      <td>SFO</td>\n",
              "      <td>IAH</td>\n",
              "      <td>3</td>\n",
              "      <td>15.0</td>\n",
              "      <td>205.0</td>\n",
              "      <td>1</td>\n",
              "    </tr>\n",
              "    <tr>\n",
              "      <th>1</th>\n",
              "      <td>2</td>\n",
              "      <td>US</td>\n",
              "      <td>1558</td>\n",
              "      <td>PHX</td>\n",
              "      <td>CLT</td>\n",
              "      <td>3</td>\n",
              "      <td>15.0</td>\n",
              "      <td>222.0</td>\n",
              "      <td>1</td>\n",
              "    </tr>\n",
              "    <tr>\n",
              "      <th>2</th>\n",
              "      <td>3</td>\n",
              "      <td>AA</td>\n",
              "      <td>2400</td>\n",
              "      <td>LAX</td>\n",
              "      <td>DFW</td>\n",
              "      <td>3</td>\n",
              "      <td>20.0</td>\n",
              "      <td>165.0</td>\n",
              "      <td>1</td>\n",
              "    </tr>\n",
              "    <tr>\n",
              "      <th>3</th>\n",
              "      <td>4</td>\n",
              "      <td>AA</td>\n",
              "      <td>2466</td>\n",
              "      <td>SFO</td>\n",
              "      <td>DFW</td>\n",
              "      <td>3</td>\n",
              "      <td>20.0</td>\n",
              "      <td>195.0</td>\n",
              "      <td>1</td>\n",
              "    </tr>\n",
              "    <tr>\n",
              "      <th>4</th>\n",
              "      <td>5</td>\n",
              "      <td>AS</td>\n",
              "      <td>108</td>\n",
              "      <td>ANC</td>\n",
              "      <td>SEA</td>\n",
              "      <td>3</td>\n",
              "      <td>30.0</td>\n",
              "      <td>202.0</td>\n",
              "      <td>0</td>\n",
              "    </tr>\n",
              "    <tr>\n",
              "      <th>...</th>\n",
              "      <td>...</td>\n",
              "      <td>...</td>\n",
              "      <td>...</td>\n",
              "      <td>...</td>\n",
              "      <td>...</td>\n",
              "      <td>...</td>\n",
              "      <td>...</td>\n",
              "      <td>...</td>\n",
              "      <td>...</td>\n",
              "    </tr>\n",
              "    <tr>\n",
              "      <th>159995</th>\n",
              "      <td>159996</td>\n",
              "      <td>9E</td>\n",
              "      <td>3949</td>\n",
              "      <td>DTW</td>\n",
              "      <td>MLI</td>\n",
              "      <td>5</td>\n",
              "      <td>540.0</td>\n",
              "      <td>94.0</td>\n",
              "      <td>0</td>\n",
              "    </tr>\n",
              "    <tr>\n",
              "      <th>159996</th>\n",
              "      <td>159997</td>\n",
              "      <td>9E</td>\n",
              "      <td>3970</td>\n",
              "      <td>MEM</td>\n",
              "      <td>CMH</td>\n",
              "      <td>5</td>\n",
              "      <td>540.0</td>\n",
              "      <td>106.0</td>\n",
              "      <td>0</td>\n",
              "    </tr>\n",
              "    <tr>\n",
              "      <th>159997</th>\n",
              "      <td>159998</td>\n",
              "      <td>9E</td>\n",
              "      <td>3974</td>\n",
              "      <td>DTW</td>\n",
              "      <td>IND</td>\n",
              "      <td>5</td>\n",
              "      <td>540.0</td>\n",
              "      <td>83.0</td>\n",
              "      <td>0</td>\n",
              "    </tr>\n",
              "    <tr>\n",
              "      <th>159998</th>\n",
              "      <td>159999</td>\n",
              "      <td>9E</td>\n",
              "      <td>4388</td>\n",
              "      <td>DTW</td>\n",
              "      <td>MSN</td>\n",
              "      <td>5</td>\n",
              "      <td>540.0</td>\n",
              "      <td>87.0</td>\n",
              "      <td>0</td>\n",
              "    </tr>\n",
              "    <tr>\n",
              "      <th>159999</th>\n",
              "      <td>160000</td>\n",
              "      <td>AA</td>\n",
              "      <td>1394</td>\n",
              "      <td>DFW</td>\n",
              "      <td>FLL</td>\n",
              "      <td>5</td>\n",
              "      <td>540.0</td>\n",
              "      <td>155.0</td>\n",
              "      <td>0</td>\n",
              "    </tr>\n",
              "  </tbody>\n",
              "</table>\n",
              "<p>160000 rows × 9 columns</p>\n",
              "</div>\n",
              "    <div class=\"colab-df-buttons\">\n",
              "\n",
              "  <div class=\"colab-df-container\">\n",
              "    <button class=\"colab-df-convert\" onclick=\"convertToInteractive('df-f87a875a-677b-41b8-8791-223304768c2c')\"\n",
              "            title=\"Convert this dataframe to an interactive table.\"\n",
              "            style=\"display:none;\">\n",
              "\n",
              "  <svg xmlns=\"http://www.w3.org/2000/svg\" height=\"24px\" viewBox=\"0 -960 960 960\">\n",
              "    <path d=\"M120-120v-720h720v720H120Zm60-500h600v-160H180v160Zm220 220h160v-160H400v160Zm0 220h160v-160H400v160ZM180-400h160v-160H180v160Zm440 0h160v-160H620v160ZM180-180h160v-160H180v160Zm440 0h160v-160H620v160Z\"/>\n",
              "  </svg>\n",
              "    </button>\n",
              "\n",
              "  <style>\n",
              "    .colab-df-container {\n",
              "      display:flex;\n",
              "      gap: 12px;\n",
              "    }\n",
              "\n",
              "    .colab-df-convert {\n",
              "      background-color: #E8F0FE;\n",
              "      border: none;\n",
              "      border-radius: 50%;\n",
              "      cursor: pointer;\n",
              "      display: none;\n",
              "      fill: #1967D2;\n",
              "      height: 32px;\n",
              "      padding: 0 0 0 0;\n",
              "      width: 32px;\n",
              "    }\n",
              "\n",
              "    .colab-df-convert:hover {\n",
              "      background-color: #E2EBFA;\n",
              "      box-shadow: 0px 1px 2px rgba(60, 64, 67, 0.3), 0px 1px 3px 1px rgba(60, 64, 67, 0.15);\n",
              "      fill: #174EA6;\n",
              "    }\n",
              "\n",
              "    .colab-df-buttons div {\n",
              "      margin-bottom: 4px;\n",
              "    }\n",
              "\n",
              "    [theme=dark] .colab-df-convert {\n",
              "      background-color: #3B4455;\n",
              "      fill: #D2E3FC;\n",
              "    }\n",
              "\n",
              "    [theme=dark] .colab-df-convert:hover {\n",
              "      background-color: #434B5C;\n",
              "      box-shadow: 0px 1px 3px 1px rgba(0, 0, 0, 0.15);\n",
              "      filter: drop-shadow(0px 1px 2px rgba(0, 0, 0, 0.3));\n",
              "      fill: #FFFFFF;\n",
              "    }\n",
              "  </style>\n",
              "\n",
              "    <script>\n",
              "      const buttonEl =\n",
              "        document.querySelector('#df-f87a875a-677b-41b8-8791-223304768c2c button.colab-df-convert');\n",
              "      buttonEl.style.display =\n",
              "        google.colab.kernel.accessAllowed ? 'block' : 'none';\n",
              "\n",
              "      async function convertToInteractive(key) {\n",
              "        const element = document.querySelector('#df-f87a875a-677b-41b8-8791-223304768c2c');\n",
              "        const dataTable =\n",
              "          await google.colab.kernel.invokeFunction('convertToInteractive',\n",
              "                                                    [key], {});\n",
              "        if (!dataTable) return;\n",
              "\n",
              "        const docLinkHtml = 'Like what you see? Visit the ' +\n",
              "          '<a target=\"_blank\" href=https://colab.research.google.com/notebooks/data_table.ipynb>data table notebook</a>'\n",
              "          + ' to learn more about interactive tables.';\n",
              "        element.innerHTML = '';\n",
              "        dataTable['output_type'] = 'display_data';\n",
              "        await google.colab.output.renderOutput(dataTable, element);\n",
              "        const docLink = document.createElement('div');\n",
              "        docLink.innerHTML = docLinkHtml;\n",
              "        element.appendChild(docLink);\n",
              "      }\n",
              "    </script>\n",
              "  </div>\n",
              "\n",
              "\n",
              "<div id=\"df-61a66225-641c-48a9-9764-b7338b57f877\">\n",
              "  <button class=\"colab-df-quickchart\" onclick=\"quickchart('df-61a66225-641c-48a9-9764-b7338b57f877')\"\n",
              "            title=\"Suggest charts\"\n",
              "            style=\"display:none;\">\n",
              "\n",
              "<svg xmlns=\"http://www.w3.org/2000/svg\" height=\"24px\"viewBox=\"0 0 24 24\"\n",
              "     width=\"24px\">\n",
              "    <g>\n",
              "        <path d=\"M19 3H5c-1.1 0-2 .9-2 2v14c0 1.1.9 2 2 2h14c1.1 0 2-.9 2-2V5c0-1.1-.9-2-2-2zM9 17H7v-7h2v7zm4 0h-2V7h2v10zm4 0h-2v-4h2v4z\"/>\n",
              "    </g>\n",
              "</svg>\n",
              "  </button>\n",
              "\n",
              "<style>\n",
              "  .colab-df-quickchart {\n",
              "      --bg-color: #E8F0FE;\n",
              "      --fill-color: #1967D2;\n",
              "      --hover-bg-color: #E2EBFA;\n",
              "      --hover-fill-color: #174EA6;\n",
              "      --disabled-fill-color: #AAA;\n",
              "      --disabled-bg-color: #DDD;\n",
              "  }\n",
              "\n",
              "  [theme=dark] .colab-df-quickchart {\n",
              "      --bg-color: #3B4455;\n",
              "      --fill-color: #D2E3FC;\n",
              "      --hover-bg-color: #434B5C;\n",
              "      --hover-fill-color: #FFFFFF;\n",
              "      --disabled-bg-color: #3B4455;\n",
              "      --disabled-fill-color: #666;\n",
              "  }\n",
              "\n",
              "  .colab-df-quickchart {\n",
              "    background-color: var(--bg-color);\n",
              "    border: none;\n",
              "    border-radius: 50%;\n",
              "    cursor: pointer;\n",
              "    display: none;\n",
              "    fill: var(--fill-color);\n",
              "    height: 32px;\n",
              "    padding: 0;\n",
              "    width: 32px;\n",
              "  }\n",
              "\n",
              "  .colab-df-quickchart:hover {\n",
              "    background-color: var(--hover-bg-color);\n",
              "    box-shadow: 0 1px 2px rgba(60, 64, 67, 0.3), 0 1px 3px 1px rgba(60, 64, 67, 0.15);\n",
              "    fill: var(--button-hover-fill-color);\n",
              "  }\n",
              "\n",
              "  .colab-df-quickchart-complete:disabled,\n",
              "  .colab-df-quickchart-complete:disabled:hover {\n",
              "    background-color: var(--disabled-bg-color);\n",
              "    fill: var(--disabled-fill-color);\n",
              "    box-shadow: none;\n",
              "  }\n",
              "\n",
              "  .colab-df-spinner {\n",
              "    border: 2px solid var(--fill-color);\n",
              "    border-color: transparent;\n",
              "    border-bottom-color: var(--fill-color);\n",
              "    animation:\n",
              "      spin 1s steps(1) infinite;\n",
              "  }\n",
              "\n",
              "  @keyframes spin {\n",
              "    0% {\n",
              "      border-color: transparent;\n",
              "      border-bottom-color: var(--fill-color);\n",
              "      border-left-color: var(--fill-color);\n",
              "    }\n",
              "    20% {\n",
              "      border-color: transparent;\n",
              "      border-left-color: var(--fill-color);\n",
              "      border-top-color: var(--fill-color);\n",
              "    }\n",
              "    30% {\n",
              "      border-color: transparent;\n",
              "      border-left-color: var(--fill-color);\n",
              "      border-top-color: var(--fill-color);\n",
              "      border-right-color: var(--fill-color);\n",
              "    }\n",
              "    40% {\n",
              "      border-color: transparent;\n",
              "      border-right-color: var(--fill-color);\n",
              "      border-top-color: var(--fill-color);\n",
              "    }\n",
              "    60% {\n",
              "      border-color: transparent;\n",
              "      border-right-color: var(--fill-color);\n",
              "    }\n",
              "    80% {\n",
              "      border-color: transparent;\n",
              "      border-right-color: var(--fill-color);\n",
              "      border-bottom-color: var(--fill-color);\n",
              "    }\n",
              "    90% {\n",
              "      border-color: transparent;\n",
              "      border-bottom-color: var(--fill-color);\n",
              "    }\n",
              "  }\n",
              "</style>\n",
              "\n",
              "  <script>\n",
              "    async function quickchart(key) {\n",
              "      const quickchartButtonEl =\n",
              "        document.querySelector('#' + key + ' button');\n",
              "      quickchartButtonEl.disabled = true;  // To prevent multiple clicks.\n",
              "      quickchartButtonEl.classList.add('colab-df-spinner');\n",
              "      try {\n",
              "        const charts = await google.colab.kernel.invokeFunction(\n",
              "            'suggestCharts', [key], {});\n",
              "      } catch (error) {\n",
              "        console.error('Error during call to suggestCharts:', error);\n",
              "      }\n",
              "      quickchartButtonEl.classList.remove('colab-df-spinner');\n",
              "      quickchartButtonEl.classList.add('colab-df-quickchart-complete');\n",
              "    }\n",
              "    (() => {\n",
              "      let quickchartButtonEl =\n",
              "        document.querySelector('#df-61a66225-641c-48a9-9764-b7338b57f877 button');\n",
              "      quickchartButtonEl.style.display =\n",
              "        google.colab.kernel.accessAllowed ? 'block' : 'none';\n",
              "    })();\n",
              "  </script>\n",
              "</div>\n",
              "    </div>\n",
              "  </div>\n"
            ]
          },
          "metadata": {},
          "execution_count": 6
        }
      ],
      "source": [
        "dataset = dataset.head(160000)\n",
        "\n",
        "dataset"
      ]
    },
    {
      "cell_type": "markdown",
      "metadata": {
        "id": "2kn5V67xTlzU"
      },
      "source": [
        "# Discovering Data"
      ]
    },
    {
      "cell_type": "code",
      "execution_count": null,
      "metadata": {
        "colab": {
          "base_uri": "https://localhost:8080/"
        },
        "id": "RujPNRt5TlzV",
        "outputId": "357486cf-581f-485a-a410-6d9ee96fa8e0"
      },
      "outputs": [
        {
          "output_type": "execute_result",
          "data": {
            "text/plain": [
              "id               int64\n",
              "Airline         object\n",
              "Flight           int64\n",
              "AirportFrom     object\n",
              "AirportTo       object\n",
              "DayOfWeek        int64\n",
              "Time           float64\n",
              "Length         float64\n",
              "Delay            int64\n",
              "dtype: object"
            ]
          },
          "metadata": {},
          "execution_count": 7
        }
      ],
      "source": [
        "# Checking the types of columns\n",
        "dataset.dtypes\n"
      ]
    },
    {
      "cell_type": "code",
      "execution_count": null,
      "metadata": {
        "colab": {
          "base_uri": "https://localhost:8080/"
        },
        "id": "tCVFUbEtTlzW",
        "outputId": "f48c5a11-f42f-4aee-f058-bb3d2a68f61a"
      },
      "outputs": [
        {
          "output_type": "stream",
          "name": "stdout",
          "text": [
            "<class 'pandas.core.frame.DataFrame'>\n",
            "RangeIndex: 160000 entries, 0 to 159999\n",
            "Data columns (total 9 columns):\n",
            " #   Column       Non-Null Count   Dtype  \n",
            "---  ------       --------------   -----  \n",
            " 0   id           160000 non-null  int64  \n",
            " 1   Airline      160000 non-null  object \n",
            " 2   Flight       160000 non-null  int64  \n",
            " 3   AirportFrom  160000 non-null  object \n",
            " 4   AirportTo    160000 non-null  object \n",
            " 5   DayOfWeek    160000 non-null  int64  \n",
            " 6   Time         159991 non-null  float64\n",
            " 7   Length       159991 non-null  float64\n",
            " 8   Delay        160000 non-null  int64  \n",
            "dtypes: float64(2), int64(4), object(3)\n",
            "memory usage: 11.0+ MB\n"
          ]
        }
      ],
      "source": [
        "# Showing dataset summary information\n",
        "dataset.info()"
      ]
    },
    {
      "cell_type": "code",
      "execution_count": null,
      "metadata": {
        "colab": {
          "base_uri": "https://localhost:8080/"
        },
        "id": "lkFNm2fETlzZ",
        "outputId": "be0f0798-4e23-4490-8cef-0205d5ebb5ed"
      },
      "outputs": [
        {
          "output_type": "execute_result",
          "data": {
            "text/plain": [
              "(160000, 9)"
            ]
          },
          "metadata": {},
          "execution_count": 9
        }
      ],
      "source": [
        "# Showing number of rows and columns\n",
        "dataset.shape"
      ]
    },
    {
      "cell_type": "code",
      "execution_count": null,
      "metadata": {
        "colab": {
          "base_uri": "https://localhost:8080/"
        },
        "id": "wbjY_uQUTlza",
        "outputId": "379a9f93-6260-4a12-b119-9343790681d2"
      },
      "outputs": [
        {
          "output_type": "execute_result",
          "data": {
            "text/plain": [
              "Index(['id', 'Airline', 'Flight', 'AirportFrom', 'AirportTo', 'DayOfWeek',\n",
              "       'Time', 'Length', 'Delay'],\n",
              "      dtype='object')"
            ]
          },
          "metadata": {},
          "execution_count": 10
        }
      ],
      "source": [
        "# Showing different dataset columns\n",
        "dataset.columns"
      ]
    },
    {
      "cell_type": "code",
      "execution_count": null,
      "metadata": {
        "colab": {
          "base_uri": "https://localhost:8080/"
        },
        "id": "Dqb_EXs9Tlzb",
        "outputId": "d4f95015-2108-4738-9c78-0e265a869658"
      },
      "outputs": [
        {
          "output_type": "execute_result",
          "data": {
            "text/plain": [
              "id             0\n",
              "Airline        0\n",
              "Flight         0\n",
              "AirportFrom    0\n",
              "AirportTo      0\n",
              "DayOfWeek      0\n",
              "Time           9\n",
              "Length         9\n",
              "Delay          0\n",
              "dtype: int64"
            ]
          },
          "metadata": {},
          "execution_count": 11
        }
      ],
      "source": [
        "# Showing number of null values in each column\n",
        "dataset.isnull().sum()\n"
      ]
    },
    {
      "cell_type": "markdown",
      "metadata": {
        "id": "QWJ2LLC_6DdM"
      },
      "source": [
        "# Handling missing data"
      ]
    },
    {
      "cell_type": "code",
      "execution_count": null,
      "metadata": {
        "id": "sDw4jD3X6FFv"
      },
      "outputs": [],
      "source": [
        "# Import SimpleImputer\n",
        "from sklearn.impute import SimpleImputer\n",
        "\n",
        "# Create imputer object with mean strategy for missing values\n",
        "imputer = SimpleImputer(missing_values=np.nan, strategy=\"mean\")\n",
        "\n",
        "# Transform data by replacing missing values with mean\n",
        "dataset[['Time', 'Length']] = imputer.fit_transform(dataset[['Time', 'Length']])"
      ]
    },
    {
      "cell_type": "markdown",
      "metadata": {
        "id": "FWD4aJj5Tlzd"
      },
      "source": [
        "# Exploratory Data Analysis"
      ]
    },
    {
      "cell_type": "markdown",
      "metadata": {
        "id": "auoVUm_tZuWU"
      },
      "source": [
        "### Flight Delay Distribution by Airline\n",
        "\n",
        "\n"
      ]
    },
    {
      "cell_type": "code",
      "execution_count": null,
      "metadata": {
        "colab": {
          "base_uri": "https://localhost:8080/",
          "height": 467
        },
        "id": "eu_QHyKSTlzf",
        "outputId": "b03a7685-b6ea-43b6-eb22-878aa175137b"
      },
      "outputs": [
        {
          "output_type": "execute_result",
          "data": {
            "text/plain": [
              "<Axes: xlabel='Airline', ylabel='count'>"
            ]
          },
          "metadata": {},
          "execution_count": 13
        },
        {
          "output_type": "display_data",
          "data": {
            "text/plain": [
              "<Figure size 640x480 with 1 Axes>"
            ],
            "image/png": "[encoded data removed]"
          },
          "metadata": {}
        }
      ],
      "source": [
        "# Show the count of flights categorized as delayed or not delayed by each airline.\n",
        "sns.countplot(data=dataset, x='Airline', hue='Delay')"
      ]
    },
    {
      "cell_type": "markdown",
      "metadata": {
        "id": "XfEzYf51aZPD"
      },
      "source": [
        "### Flight Lengths by Airline\n"
      ]
    },
    {
      "cell_type": "code",
      "execution_count": null,
      "metadata": {
        "colab": {
          "base_uri": "https://localhost:8080/",
          "height": 467
        },
        "id": "SeD4l4GjTlzg",
        "outputId": "9dbe24e2-0cea-4f3c-adee-03bf3c649e20"
      },
      "outputs": [
        {
          "output_type": "execute_result",
          "data": {
            "text/plain": [
              "<Axes: xlabel='Airline', ylabel='Length'>"
            ]
          },
          "metadata": {},
          "execution_count": 14
        },
        {
          "output_type": "display_data",
          "data": {
            "text/plain": [
              "<Figure size 640x480 with 1 Axes>"
            ],
            "image/png": "[encoded data removed]"
          },
          "metadata": {}
        }
      ],
      "source": [
        "# The average flight length varies among airlines\n",
        "sns.barplot(data=dataset, x='Airline', y='Length')\n"
      ]
    },
    {
      "cell_type": "markdown",
      "metadata": {
        "id": "-75WJqL0ba3e"
      },
      "source": [
        "### Flight Frequency by Day of the Week\n",
        "\n"
      ]
    },
    {
      "cell_type": "code",
      "execution_count": null,
      "metadata": {
        "colab": {
          "base_uri": "https://localhost:8080/",
          "height": 472
        },
        "id": "KpcXE4ReTlzj",
        "outputId": "e133cd5a-a5c3-4e5d-a842-623f347ba27a"
      },
      "outputs": [
        {
          "output_type": "display_data",
          "data": {
            "text/plain": [
              "<Figure size 640x480 with 1 Axes>"
            ],
            "image/png": "[encoded data removed]"
          },
          "metadata": {}
        }
      ],
      "source": [
        "#Flight frequency throughout the week\n",
        "DayOfWeekOrder = list(range(1,8))\n",
        "sns.countplot(x='DayOfWeek',data=dataset,order=DayOfWeekOrder).set(title='Flight frequency throughout the week');"
      ]
    },
    {
      "cell_type": "markdown",
      "metadata": {
        "id": "B5gS47AecUfk"
      },
      "source": [
        "### Flight Delay Proportion by Day of the Week\n",
        "\n"
      ]
    },
    {
      "cell_type": "code",
      "execution_count": null,
      "metadata": {
        "colab": {
          "base_uri": "https://localhost:8080/",
          "height": 1000
        },
        "id": "g-RRg2a8Tlzk",
        "outputId": "18159d42-8268-4e47-a822-a0e63ed80d68"
      },
      "outputs": [
        {
          "output_type": "display_data",
          "data": {
            "text/plain": [
              "<Figure size 640x480 with 1 Axes>"
            ],
            "image/png": "[encoded data removed]"
          },
          "metadata": {}
        },
        {
          "output_type": "display_data",
          "data": {
            "text/plain": [
              "<Figure size 640x480 with 1 Axes>"
            ],
            "image/png": "[encoded data removed]"
          },
          "metadata": {}
        },
        {
          "output_type": "display_data",
          "data": {
            "text/plain": [
              "<Figure size 640x480 with 1 Axes>"
            ],
            "image/png": "[encoded data removed]"
          },
          "metadata": {}
        },
        {
          "output_type": "display_data",
          "data": {
            "text/plain": [
              "<Figure size 640x480 with 1 Axes>"
            ],
            "image/png": "[encoded data removed]"
          },
          "metadata": {}
        },
        {
          "output_type": "display_data",
          "data": {
            "text/plain": [
              "<Figure size 640x480 with 1 Axes>"
            ],
            "image/png": "[encoded data removed]"
          },
          "metadata": {}
        },
        {
          "output_type": "display_data",
          "data": {
            "text/plain": [
              "<Figure size 640x480 with 1 Axes>"
            ],
            "image/png": "[encoded data removed]"
          },
          "metadata": {}
        },
        {
          "output_type": "display_data",
          "data": {
            "text/plain": [
              "<Figure size 640x480 with 1 Axes>"
            ],
            "image/png": "[encoded data removed]"
          },
          "metadata": {}
        }
      ],
      "source": [
        "#Day of week vs Flight being delayed\n",
        "a = dataset.groupby(['DayOfWeek','Delay']).count().unstack('Delay')['Time']\n",
        "for i in range(a.shape[0]):\n",
        "    numOfFlights = a.iloc[i,0]+a.iloc[i,1]\n",
        "    for j in [0,1]:\n",
        "        a.iloc[i,j] = a.iloc[i,j]/numOfFlights\n",
        "\n",
        "#set labels for pie chart\n",
        "pieChartLabels = ['Not delayed','Delayed']\n",
        "#define Seaborn color palette to use\n",
        "myColors = sns.color_palette('pastel')[0:5]\n",
        "#display pie charts for the whole week\n",
        "for i in range(1,8):\n",
        "    b = a.iloc[i-1,:]\n",
        "    #create pie chart\n",
        "    plt.pie(b, labels = pieChartLabels, colors = myColors, autopct='%.0f%%')\n",
        "    plt.title('Day ' + str(i))\n",
        "    plt.show()"
      ]
    },
    {
      "cell_type": "markdown",
      "metadata": {
        "id": "gbSdrQRMc9L7"
      },
      "source": [
        "### Airlines with the Most Delayed Flights\n",
        "\n"
      ]
    },
    {
      "cell_type": "code",
      "execution_count": null,
      "metadata": {
        "colab": {
          "base_uri": "https://localhost:8080/",
          "height": 538
        },
        "id": "8CQbsTv0Tlzm",
        "outputId": "7820836f-6d4e-4c54-e608-bc1c815c5ac6"
      },
      "outputs": [
        {
          "output_type": "stream",
          "name": "stderr",
          "text": [
            "<ipython-input-17-e7576cadda7d>:2: FutureWarning: The default value of numeric_only in DataFrameGroupBy.sum is deprecated. In a future version, numeric_only will default to False. Either specify numeric_only or select only columns which should be valid for the function.\n",
            "  c = dataset.groupby('Airline').sum()['Delay'].sort_values(ascending=False)\n"
          ]
        },
        {
          "output_type": "display_data",
          "data": {
            "text/plain": [
              "<Figure size 640x480 with 1 Axes>"
            ],
            "image/png": "[encoded data removed]"
          },
          "metadata": {}
        }
      ],
      "source": [
        "#We will now look at which airlines had the most delayed flights\n",
        "c = dataset.groupby('Airline').sum()['Delay'].sort_values(ascending=False)\n",
        "c.plot(kind='bar',color=myColors)\n",
        "plt.ylabel('Number of delayed flights')\n",
        "plt.title('Number of delayed flights per airline')\n",
        "plt.show()"
      ]
    },
    {
      "cell_type": "markdown",
      "metadata": {
        "id": "6FJzYHZyTlzn"
      },
      "source": [
        "# Checking for imbalance"
      ]
    },
    {
      "cell_type": "code",
      "execution_count": null,
      "metadata": {
        "id": "Bbi6tbcRTlzo"
      },
      "outputs": [],
      "source": [
        "# Separate features (independent variables) and target variable (dependent variable)\n",
        "x_check = dataset.drop(['Delay'], axis=1)\n",
        "y_check = dataset['Delay']"
      ]
    },
    {
      "cell_type": "code",
      "execution_count": null,
      "metadata": {
        "colab": {
          "base_uri": "https://localhost:8080/"
        },
        "id": "Fu9xK_ZaTlzo",
        "outputId": "783ad41d-55b1-4604-c042-f64efefee3de"
      },
      "outputs": [
        {
          "output_type": "execute_result",
          "data": {
            "text/plain": [
              "0    105672\n",
              "1     54328\n",
              "Name: Delay, dtype: int64"
            ]
          },
          "metadata": {},
          "execution_count": 19
        }
      ],
      "source": [
        "# Count the occurrences of each unique value in the target variable\n",
        "y_check.value_counts()"
      ]
    },
    {
      "cell_type": "code",
      "execution_count": null,
      "metadata": {
        "colab": {
          "base_uri": "https://localhost:8080/",
          "height": 424
        },
        "id": "DRMxET8fTlzp",
        "outputId": "f7eb8a80-b6aa-4473-b486-75a7e0d89de2"
      },
      "outputs": [
        {
          "output_type": "execute_result",
          "data": {
            "text/plain": [
              "<Axes: ylabel='Delay'>"
            ]
          },
          "metadata": {},
          "execution_count": 20
        },
        {
          "output_type": "display_data",
          "data": {
            "text/plain": [
              "<Figure size 640x480 with 1 Axes>"
            ],
            "image/png": "[encoded data removed]"
          },
          "metadata": {}
        }
      ],
      "source": [
        "# Visualize the distribution of the target variable as a pie chart\n",
        "y_check.value_counts().plot.pie(autopct='%0.2f')\n"
      ]
    },
    {
      "cell_type": "markdown",
      "metadata": {
        "id": "M-kxyjzETlzq"
      },
      "source": [
        "# Undersampling"
      ]
    },
    {
      "cell_type": "code",
      "execution_count": null,
      "metadata": {
        "id": "tWynira3Tlzr"
      },
      "outputs": [],
      "source": [
        "# Import RandomUnderSampler from imbalanced-learn\n",
        "from imblearn.under_sampling import RandomUnderSampler\n",
        "\n",
        "# Define sampling strategy\n",
        "rus = RandomUnderSampler(sampling_strategy=1)\n",
        "\n",
        "# Apply under-sampling\n",
        "x_res, y_res = rus.fit_resample(x_check, y_check)\n"
      ]
    },
    {
      "cell_type": "code",
      "execution_count": null,
      "metadata": {
        "colab": {
          "base_uri": "https://localhost:8080/"
        },
        "id": "EMBhqinITlzs",
        "outputId": "0d12159c-04e1-45aa-bc8a-52bad6ea4c6b"
      },
      "outputs": [
        {
          "output_type": "execute_result",
          "data": {
            "text/plain": [
              "0    54328\n",
              "1    54328\n",
              "Name: Delay, dtype: int64"
            ]
          },
          "metadata": {},
          "execution_count": 22
        }
      ],
      "source": [
        "# Check the distribution of the target variable after under-sampling\n",
        "y_res.value_counts()"
      ]
    },
    {
      "cell_type": "code",
      "execution_count": null,
      "metadata": {
        "colab": {
          "base_uri": "https://localhost:8080/",
          "height": 424
        },
        "id": "RYcntSlqTlzt",
        "outputId": "b56364eb-4b0b-473f-f788-c37b897f2f18"
      },
      "outputs": [
        {
          "output_type": "execute_result",
          "data": {
            "text/plain": [
              "<Axes: ylabel='Delay'>"
            ]
          },
          "metadata": {},
          "execution_count": 23
        },
        {
          "output_type": "display_data",
          "data": {
            "text/plain": [
              "<Figure size 640x480 with 1 Axes>"
            ],
            "image/png": "[encoded data removed]"
          },
          "metadata": {}
        }
      ],
      "source": [
        "# Visualize the distribution of the target variable as a pie chart after under sampling\n",
        "y_res.value_counts().plot.pie(autopct = '%0.2f')"
      ]
    },
    {
      "cell_type": "markdown",
      "metadata": {
        "id": "SjuEF2QhTlzy"
      },
      "source": [
        "# Extracting the independent variables (input variables) and dependent variables (output variables)"
      ]
    },
    {
      "cell_type": "code",
      "execution_count": null,
      "metadata": {
        "id": "BfmkDgc6Tlzz"
      },
      "outputs": [],
      "source": [
        "# Extracting the independent variables from the dataset, excluding the first and last columns\n",
        "x = dataset.iloc[:, :-1].values\n",
        "\n",
        "# Extracting the dependent variable from the last column of the dataset\n",
        "y = dataset.iloc[:, -1].values"
      ]
    },
    {
      "cell_type": "code",
      "execution_count": null,
      "metadata": {
        "colab": {
          "base_uri": "https://localhost:8080/"
        },
        "id": "t6qjBdSdTlz0",
        "outputId": "026e52b3-7535-4106-9556-9a2a9750b962"
      },
      "outputs": [
        {
          "output_type": "stream",
          "name": "stdout",
          "text": [
            "[[1 'CO' 269 ... 3 15.0 205.0]\n",
            " [2 'US' 1558 ... 3 15.0 222.0]\n",
            " [3 'AA' 2400 ... 3 20.0 165.0]\n",
            " ...\n",
            " [159998 '9E' 3974 ... 5 540.0 83.0]\n",
            " [159999 '9E' 4388 ... 5 540.0 87.0]\n",
            " [160000 'AA' 1394 ... 5 540.0 155.0]]\n"
          ]
        }
      ],
      "source": [
        "print(x)"
      ]
    },
    {
      "cell_type": "code",
      "execution_count": null,
      "metadata": {
        "colab": {
          "base_uri": "https://localhost:8080/"
        },
        "id": "Np-M-9-jTlz1",
        "outputId": "83a4d38b-5019-4ae2-a0d9-d2cf8a2bf943"
      },
      "outputs": [
        {
          "output_type": "stream",
          "name": "stdout",
          "text": [
            "[1 1 1 ... 0 0 0]\n"
          ]
        }
      ],
      "source": [
        "print(y)"
      ]
    },
    {
      "cell_type": "markdown",
      "metadata": {
        "id": "M9mlaSjoTlz2"
      },
      "source": [
        "# Splitting the dataset into the Training set and Test set"
      ]
    },
    {
      "cell_type": "code",
      "execution_count": null,
      "metadata": {
        "id": "GYN62NkaTlz2"
      },
      "outputs": [],
      "source": [
        "# Import the train_test_split function from sklearn.model_selection\n",
        "from sklearn.model_selection import train_test_split\n",
        "\n",
        "# Split the data into training and testing sets\n",
        "# x: Input data features\n",
        "# y: Target labels\n",
        "# test_size: Proportion of data for testing (0.2 means 20%)\n",
        "# random_state: Random seed for shuffling (0 for reproducibility)\n",
        "x_train, x_test, y_train, y_test = train_test_split(x, y, test_size=0.2, random_state=0)"
      ]
    },
    {
      "cell_type": "code",
      "execution_count": null,
      "metadata": {
        "colab": {
          "base_uri": "https://localhost:8080/"
        },
        "id": "02iCZ-2MTlz3",
        "outputId": "9a4a26af-a3ac-4ee9-ce6d-89743bdd0036"
      },
      "outputs": [
        {
          "output_type": "stream",
          "name": "stdout",
          "text": [
            "[[85961 'F9' 496 ... 1 375.0 202.0]\n",
            " [62558 'WN' 1800 ... 6 855.0 145.0]\n",
            " [78621 'MQ' 2905 ... 7 930.0 70.0]\n",
            " ...\n",
            " [152316 'AS' 755 ... 4 1080.0 268.0]\n",
            " [117953 'FL' 917 ... 2 1139.0 124.0]\n",
            " [43568 'OO' 6426 ... 5 737.0 49.0]]\n"
          ]
        }
      ],
      "source": [
        "print(x_train)"
      ]
    },
    {
      "cell_type": "code",
      "execution_count": null,
      "metadata": {
        "colab": {
          "base_uri": "https://localhost:8080/"
        },
        "id": "zxTbyGReTl0S",
        "outputId": "292276ff-c471-4052-f139-99363b29be5a"
      },
      "outputs": [
        {
          "output_type": "stream",
          "name": "stdout",
          "text": [
            "[[100597 'FL' 185 ... 1 1139.0 131.0]\n",
            " [92146 'AA' 2344 ... 1 690.0 135.0]\n",
            " [5653 'WN' 3505 ... 3 630.0 90.0]\n",
            " ...\n",
            " [5425 'MQ' 3225 ... 3 620.0 130.0]\n",
            " [29669 'XE' 2346 ... 4 960.0 101.0]\n",
            " [15405 'OH' 6536 ... 3 1155.0 119.0]]\n"
          ]
        }
      ],
      "source": [
        "print(x_test)"
      ]
    },
    {
      "cell_type": "code",
      "execution_count": null,
      "metadata": {
        "colab": {
          "base_uri": "https://localhost:8080/"
        },
        "id": "CgIixUwvTl0U",
        "outputId": "3baea903-7e15-458b-f283-8c0200934aaa"
      },
      "outputs": [
        {
          "output_type": "stream",
          "name": "stdout",
          "text": [
            "[0 1 0 ... 0 0 0]\n"
          ]
        }
      ],
      "source": [
        "print(y_train)"
      ]
    },
    {
      "cell_type": "code",
      "execution_count": null,
      "metadata": {
        "colab": {
          "base_uri": "https://localhost:8080/"
        },
        "id": "sdZiJ1c2Tl0W",
        "outputId": "c1fbe46d-40b6-4835-eb76-539f0b8c575b"
      },
      "outputs": [
        {
          "output_type": "stream",
          "name": "stdout",
          "text": [
            "[1 1 1 ... 0 0 0]\n"
          ]
        }
      ],
      "source": [
        "print(y_test)"
      ]
    },
    {
      "cell_type": "markdown",
      "metadata": {
        "id": "G8M_tSwmTl0Y"
      },
      "source": [
        "# Encoding categorical data"
      ]
    },
    {
      "cell_type": "markdown",
      "metadata": {
        "id": "fo1HLSCCTl0Z"
      },
      "source": [
        "### Encoding the Independent Variable\n"
      ]
    },
    {
      "cell_type": "code",
      "execution_count": null,
      "metadata": {
        "id": "GC6wH7nHTl0a"
      },
      "outputs": [],
      "source": [
        "# Import the LabelEncoder and ColumnTransformer from sklearn.preprocessing and sklearn.compose\n",
        "from sklearn.preprocessing import LabelEncoder\n",
        "from sklearn.compose import ColumnTransformer\n",
        "\n",
        "# Assuming x_train and x_test are your input datasets\n",
        "\n",
        "# Specify the columns to be label encoded - In this case, columns 0, 2, and 3\n",
        "columns_to_encode = [1, 3, 4]\n",
        "\n",
        "# Create a ColumnTransformer object with a LabelEncoder for specified columns and a passthrough for other columns\n",
        "ct_obj = ColumnTransformer(\n",
        "    transformers=[(\"encoder\", \"passthrough\", columns_to_encode)],\n",
        "    remainder=\"passthrough\"\n",
        ")\n",
        "\n",
        "# Apply the ColumnTransformer to the training set and transform the specified columns using LabelEncoder\n",
        "for col in columns_to_encode:\n",
        "    le = LabelEncoder()\n",
        "    x_train[:, col] = le.fit_transform(x_train[:, col])\n",
        "\n",
        "# Apply the ColumnTransformer to the testing set and transform the specified columns using the same LabelEncoder\n",
        "for col in columns_to_encode:\n",
        "    le = LabelEncoder()\n",
        "    x_test[:, col] = le.fit_transform(x_test[:, col])\n"
      ]
    },
    {
      "cell_type": "code",
      "execution_count": null,
      "metadata": {
        "colab": {
          "base_uri": "https://localhost:8080/"
        },
        "id": "Pc2fTsI1Tl0c",
        "outputId": "ea2ed88a-ab05-4967-e97b-08218154f97e"
      },
      "outputs": [
        {
          "output_type": "stream",
          "name": "stdout",
          "text": [
            "[[85961 7 496 ... 1 375.0 202.0]\n",
            " [62558 15 1800 ... 6 855.0 145.0]\n",
            " [78621 10 2905 ... 7 930.0 70.0]\n",
            " ...\n",
            " [152316 2 755 ... 4 1080.0 268.0]\n",
            " [117953 8 917 ... 2 1139.0 124.0]\n",
            " [43568 12 6426 ... 5 737.0 49.0]]\n"
          ]
        }
      ],
      "source": [
        "print(x_train)"
      ]
    },
    {
      "cell_type": "code",
      "execution_count": null,
      "metadata": {
        "colab": {
          "base_uri": "https://localhost:8080/"
        },
        "id": "YuHviAnFTl0e",
        "outputId": "8ffe278f-1231-4d29-c429-20c0e28fd2ef"
      },
      "outputs": [
        {
          "output_type": "stream",
          "name": "stdout",
          "text": [
            "[[100597 8 185 ... 1 1139.0 131.0]\n",
            " [92146 1 2344 ... 1 690.0 135.0]\n",
            " [5653 15 3505 ... 3 630.0 90.0]\n",
            " ...\n",
            " [5425 10 3225 ... 3 620.0 130.0]\n",
            " [29669 16 2346 ... 4 960.0 101.0]\n",
            " [15405 11 6536 ... 3 1155.0 119.0]]\n"
          ]
        }
      ],
      "source": [
        "print(x_test)"
      ]
    },
    {
      "cell_type": "markdown",
      "metadata": {
        "id": "bBscNh8yTl0g"
      },
      "source": [
        "# Feature Scaling"
      ]
    },
    {
      "cell_type": "code",
      "execution_count": null,
      "metadata": {
        "id": "QOUWPxRkTl0h"
      },
      "outputs": [],
      "source": [
        "# Import the StandardScaler from sklearn.preprocessing\n",
        "from sklearn.preprocessing import StandardScaler\n",
        "\n",
        "# Create a StandardScaler object\n",
        "sc = StandardScaler()\n",
        "\n",
        "# Apply the StandardScaler to the training set, centering and scaling the features to a mean of 0 and a variance of 1\n",
        "x_train = sc.fit_transform(x_train)\n",
        "\n",
        "# Apply the StandardScaler to the testing set using the same parameters learned from the training set\n",
        "x_test = sc.transform(x_test)"
      ]
    },
    {
      "cell_type": "code",
      "execution_count": null,
      "metadata": {
        "colab": {
          "base_uri": "https://localhost:8080/"
        },
        "id": "-c6YOaYtTl0j",
        "outputId": "ae28cbb0-600c-4427-8c16-af5d84cbc5ce"
      },
      "outputs": [
        {
          "output_type": "stream",
          "name": "stdout",
          "text": [
            "[[ 0.13067535 -0.44275638 -0.93535148 ... -1.6293897  -1.50339576\n",
            "   1.03671141]\n",
            " [-0.37604638  1.06950675 -0.3071515  ...  1.21011856  0.21854384\n",
            "   0.21189658]\n",
            " [-0.02825032  0.12434229  0.22518054 ...  1.77802021  0.4875969\n",
            "  -0.87338609]\n",
            " ...\n",
            " [ 1.56739372 -1.38792084 -0.81057864 ...  0.07431526  1.02570303\n",
            "   1.99176016]\n",
            " [ 0.82336609 -0.25372349 -0.73253539 ... -1.06148805  1.23735811\n",
            "  -0.09198257]\n",
            " [-0.78721784  0.50240807  1.92141683 ...  0.64221691 -0.20476631\n",
            "  -1.17726524]]\n"
          ]
        }
      ],
      "source": [
        "print(x_train)"
      ]
    },
    {
      "cell_type": "code",
      "execution_count": null,
      "metadata": {
        "colab": {
          "base_uri": "https://localhost:8080/"
        },
        "id": "yl4N-7qLTl0l",
        "outputId": "3597d9d6-e249-434a-c48f-f22b88ab72ec"
      },
      "outputs": [
        {
          "output_type": "stream",
          "name": "stdout",
          "text": [
            "[[ 0.447574   -0.25372349 -1.08517525 ... -1.6293897   1.23735811\n",
            "   0.00931048]\n",
            " [ 0.26459296 -1.57695373 -0.04508035 ... -1.6293897  -0.3733729\n",
            "   0.06719222]\n",
            " [-1.60815337  1.06950675  0.51422961 ... -0.4935864  -0.58861535\n",
            "  -0.58397738]\n",
            " ...\n",
            " [-1.61309002  0.12434229  0.37934004 ... -0.4935864  -0.62448909\n",
            "  -0.00515995]\n",
            " [-1.08815897  1.25853964 -0.04411685 ...  0.07431526  0.59521813\n",
            "  -0.42480259]\n",
            " [-1.39700308  0.31337518  1.97440916 ... -0.4935864   1.29475609\n",
            "  -0.16433475]]\n"
          ]
        }
      ],
      "source": [
        "print(x_test)"
      ]
    },
    {
      "cell_type": "markdown",
      "metadata": {
        "id": "HGR_DeEQTl0m"
      },
      "source": [
        "# Creating the Artificial Neural Netowrk (ANN) model\n"
      ]
    },
    {
      "cell_type": "code",
      "execution_count": null,
      "metadata": {
        "id": "JHoj8ZilTl0o"
      },
      "outputs": [],
      "source": [
        "ann_model=tf.keras.models.Sequential()\n"
      ]
    },
    {
      "cell_type": "code",
      "execution_count": null,
      "metadata": {
        "id": "jjHBxLpoTl0r"
      },
      "outputs": [],
      "source": [
        "ann_model.add(tf.keras.layers.Dense(units=16,activation=\"relu\"))"
      ]
    },
    {
      "cell_type": "code",
      "execution_count": null,
      "metadata": {
        "id": "M0aRSQCZJsr3"
      },
      "outputs": [],
      "source": [
        "ann_model.add(tf.keras.layers.Dense(units=8,activation=\"relu\"))"
      ]
    },
    {
      "cell_type": "code",
      "execution_count": null,
      "metadata": {
        "id": "G1yOkJdDJut9"
      },
      "outputs": [],
      "source": [
        "ann_model.add(tf.keras.layers.Dense(units= 1, activation='sigmoid'))"
      ]
    },
    {
      "cell_type": "markdown",
      "metadata": {
        "id": "HU7IeMz2JxdJ"
      },
      "source": [
        "# Compile the model"
      ]
    },
    {
      "cell_type": "code",
      "execution_count": null,
      "metadata": {
        "id": "UnjOrnT2JzMG"
      },
      "outputs": [],
      "source": [
        "ann_model.compile(optimizer = 'adam', loss = 'binary_crossentropy', metrics = ['accuracy'])"
      ]
    },
    {
      "cell_type": "markdown",
      "metadata": {
        "id": "OHxKbx7TJ0PH"
      },
      "source": [
        "# Fit the Model to the taining set"
      ]
    },
    {
      "cell_type": "code",
      "execution_count": null,
      "metadata": {
        "colab": {
          "base_uri": "https://localhost:8080/"
        },
        "id": "xqYa7z3HTl0s",
        "outputId": "b3ac3b8d-b30b-44d6-f902-b7fc06b2a933"
      },
      "outputs": [
        {
          "output_type": "stream",
          "name": "stdout",
          "text": [
            "Epoch 1/80\n",
            "5120/5120 [==============================] - 11s 2ms/step - loss: 0.6223 - accuracy: 0.6625\n",
            "Epoch 2/80\n",
            "5120/5120 [==============================] - 9s 2ms/step - loss: 0.6144 - accuracy: 0.6693\n",
            "Epoch 3/80\n",
            "5120/5120 [==============================] - 10s 2ms/step - loss: 0.6122 - accuracy: 0.6715\n",
            "Epoch 4/80\n",
            "5120/5120 [==============================] - 10s 2ms/step - loss: 0.6106 - accuracy: 0.6718\n",
            "Epoch 5/80\n",
            "5120/5120 [==============================] - 11s 2ms/step - loss: 0.6095 - accuracy: 0.6735\n",
            "Epoch 6/80\n",
            "5120/5120 [==============================] - 9s 2ms/step - loss: 0.6074 - accuracy: 0.6757\n",
            "Epoch 7/80\n",
            "5120/5120 [==============================] - 10s 2ms/step - loss: 0.6048 - accuracy: 0.6796\n",
            "Epoch 8/80\n",
            "5120/5120 [==============================] - 10s 2ms/step - loss: 0.6022 - accuracy: 0.6836\n",
            "Epoch 9/80\n",
            "5120/5120 [==============================] - 9s 2ms/step - loss: 0.6004 - accuracy: 0.6851\n",
            "Epoch 10/80\n",
            "5120/5120 [==============================] - 10s 2ms/step - loss: 0.5988 - accuracy: 0.6864\n",
            "Epoch 11/80\n",
            "5120/5120 [==============================] - 10s 2ms/step - loss: 0.5977 - accuracy: 0.6880\n",
            "Epoch 12/80\n",
            "5120/5120 [==============================] - 10s 2ms/step - loss: 0.5968 - accuracy: 0.6880\n",
            "Epoch 13/80\n",
            "5120/5120 [==============================] - 9s 2ms/step - loss: 0.5958 - accuracy: 0.6892\n",
            "Epoch 14/80\n",
            "5120/5120 [==============================] - 10s 2ms/step - loss: 0.5952 - accuracy: 0.6904\n",
            "Epoch 15/80\n",
            "5120/5120 [==============================] - 10s 2ms/step - loss: 0.5937 - accuracy: 0.6907\n",
            "Epoch 16/80\n",
            "5120/5120 [==============================] - 10s 2ms/step - loss: 0.5920 - accuracy: 0.6929\n",
            "Epoch 17/80\n",
            "5120/5120 [==============================] - 10s 2ms/step - loss: 0.5899 - accuracy: 0.6944\n",
            "Epoch 18/80\n",
            "5120/5120 [==============================] - 10s 2ms/step - loss: 0.5887 - accuracy: 0.6957\n",
            "Epoch 19/80\n",
            "5120/5120 [==============================] - 10s 2ms/step - loss: 0.5876 - accuracy: 0.6969\n",
            "Epoch 20/80\n",
            "5120/5120 [==============================] - 9s 2ms/step - loss: 0.5872 - accuracy: 0.6968\n",
            "Epoch 21/80\n",
            "5120/5120 [==============================] - 10s 2ms/step - loss: 0.5869 - accuracy: 0.6975\n",
            "Epoch 22/80\n",
            "5120/5120 [==============================] - 10s 2ms/step - loss: 0.5866 - accuracy: 0.6979\n",
            "Epoch 23/80\n",
            "5120/5120 [==============================] - 9s 2ms/step - loss: 0.5865 - accuracy: 0.6976\n",
            "Epoch 24/80\n",
            "5120/5120 [==============================] - 10s 2ms/step - loss: 0.5862 - accuracy: 0.6977\n",
            "Epoch 25/80\n",
            "5120/5120 [==============================] - 10s 2ms/step - loss: 0.5860 - accuracy: 0.6978\n",
            "Epoch 26/80\n",
            "5120/5120 [==============================] - 10s 2ms/step - loss: 0.5857 - accuracy: 0.6979\n",
            "Epoch 27/80\n",
            "5120/5120 [==============================] - 9s 2ms/step - loss: 0.5859 - accuracy: 0.6976\n",
            "Epoch 28/80\n",
            "5120/5120 [==============================] - 10s 2ms/step - loss: 0.5854 - accuracy: 0.6985\n",
            "Epoch 29/80\n",
            "5120/5120 [==============================] - 13s 2ms/step - loss: 0.5855 - accuracy: 0.6983\n",
            "Epoch 30/80\n",
            "5120/5120 [==============================] - 10s 2ms/step - loss: 0.5852 - accuracy: 0.6988\n",
            "Epoch 31/80\n",
            "5120/5120 [==============================] - 9s 2ms/step - loss: 0.5851 - accuracy: 0.6980\n",
            "Epoch 32/80\n",
            "5120/5120 [==============================] - 10s 2ms/step - loss: 0.5849 - accuracy: 0.6976\n",
            "Epoch 33/80\n",
            "5120/5120 [==============================] - 10s 2ms/step - loss: 0.5850 - accuracy: 0.6984\n",
            "Epoch 34/80\n",
            "5120/5120 [==============================] - 10s 2ms/step - loss: 0.5847 - accuracy: 0.6991\n",
            "Epoch 35/80\n",
            "5120/5120 [==============================] - 9s 2ms/step - loss: 0.5846 - accuracy: 0.6984\n",
            "Epoch 36/80\n",
            "5120/5120 [==============================] - 10s 2ms/step - loss: 0.5845 - accuracy: 0.6986\n",
            "Epoch 37/80\n",
            "5120/5120 [==============================] - 10s 2ms/step - loss: 0.5844 - accuracy: 0.6991\n",
            "Epoch 38/80\n",
            "5120/5120 [==============================] - 9s 2ms/step - loss: 0.5843 - accuracy: 0.6989\n",
            "Epoch 39/80\n",
            "5120/5120 [==============================] - 10s 2ms/step - loss: 0.5842 - accuracy: 0.6985\n",
            "Epoch 40/80\n",
            "5120/5120 [==============================] - 10s 2ms/step - loss: 0.5843 - accuracy: 0.6998\n",
            "Epoch 41/80\n",
            "5120/5120 [==============================] - 10s 2ms/step - loss: 0.5841 - accuracy: 0.6989\n",
            "Epoch 42/80\n",
            "5120/5120 [==============================] - 9s 2ms/step - loss: 0.5838 - accuracy: 0.6996\n",
            "Epoch 43/80\n",
            "5120/5120 [==============================] - 10s 2ms/step - loss: 0.5839 - accuracy: 0.6993\n",
            "Epoch 44/80\n",
            "5120/5120 [==============================] - 10s 2ms/step - loss: 0.5839 - accuracy: 0.6990\n",
            "Epoch 45/80\n",
            "5120/5120 [==============================] - 9s 2ms/step - loss: 0.5837 - accuracy: 0.6988\n",
            "Epoch 46/80\n",
            "5120/5120 [==============================] - 10s 2ms/step - loss: 0.5838 - accuracy: 0.6990\n",
            "Epoch 47/80\n",
            "5120/5120 [==============================] - 10s 2ms/step - loss: 0.5836 - accuracy: 0.6993\n",
            "Epoch 48/80\n",
            "5120/5120 [==============================] - 10s 2ms/step - loss: 0.5835 - accuracy: 0.6998\n",
            "Epoch 49/80\n",
            "5120/5120 [==============================] - 9s 2ms/step - loss: 0.5834 - accuracy: 0.6994\n",
            "Epoch 50/80\n",
            "5120/5120 [==============================] - 10s 2ms/step - loss: 0.5833 - accuracy: 0.6991\n",
            "Epoch 51/80\n",
            "5120/5120 [==============================] - 10s 2ms/step - loss: 0.5833 - accuracy: 0.6999\n",
            "Epoch 52/80\n",
            "5120/5120 [==============================] - 9s 2ms/step - loss: 0.5832 - accuracy: 0.7000\n",
            "Epoch 53/80\n",
            "5120/5120 [==============================] - 19s 4ms/step - loss: 0.5829 - accuracy: 0.7000\n",
            "Epoch 54/80\n",
            "5120/5120 [==============================] - 13s 2ms/step - loss: 0.5832 - accuracy: 0.7002\n",
            "Epoch 55/80\n",
            "5120/5120 [==============================] - 9s 2ms/step - loss: 0.5830 - accuracy: 0.6994\n",
            "Epoch 56/80\n",
            "5120/5120 [==============================] - 10s 2ms/step - loss: 0.5830 - accuracy: 0.6997\n",
            "Epoch 57/80\n",
            "5120/5120 [==============================] - 10s 2ms/step - loss: 0.5828 - accuracy: 0.6990\n",
            "Epoch 58/80\n",
            "5120/5120 [==============================] - 9s 2ms/step - loss: 0.5830 - accuracy: 0.6994\n",
            "Epoch 59/80\n",
            "5120/5120 [==============================] - 10s 2ms/step - loss: 0.5830 - accuracy: 0.6995\n",
            "Epoch 60/80\n",
            "5120/5120 [==============================] - 10s 2ms/step - loss: 0.5827 - accuracy: 0.7002\n",
            "Epoch 61/80\n",
            "5120/5120 [==============================] - 10s 2ms/step - loss: 0.5826 - accuracy: 0.7008\n",
            "Epoch 62/80\n",
            "5120/5120 [==============================] - 9s 2ms/step - loss: 0.5825 - accuracy: 0.7001\n",
            "Epoch 63/80\n",
            "5120/5120 [==============================] - 11s 2ms/step - loss: 0.5828 - accuracy: 0.6998\n",
            "Epoch 64/80\n",
            "5120/5120 [==============================] - 14s 3ms/step - loss: 0.5826 - accuracy: 0.7003\n",
            "Epoch 65/80\n",
            "5120/5120 [==============================] - 10s 2ms/step - loss: 0.5827 - accuracy: 0.6997\n",
            "Epoch 66/80\n",
            "5120/5120 [==============================] - 9s 2ms/step - loss: 0.5827 - accuracy: 0.7002\n",
            "Epoch 67/80\n",
            "5120/5120 [==============================] - 10s 2ms/step - loss: 0.5826 - accuracy: 0.7005\n",
            "Epoch 68/80\n",
            "5120/5120 [==============================] - 10s 2ms/step - loss: 0.5824 - accuracy: 0.6998\n",
            "Epoch 69/80\n",
            "5120/5120 [==============================] - 9s 2ms/step - loss: 0.5825 - accuracy: 0.7001\n",
            "Epoch 70/80\n",
            "5120/5120 [==============================] - 9s 2ms/step - loss: 0.5826 - accuracy: 0.7000\n",
            "Epoch 71/80\n",
            "5120/5120 [==============================] - 10s 2ms/step - loss: 0.5824 - accuracy: 0.7004\n",
            "Epoch 72/80\n",
            "5120/5120 [==============================] - 10s 2ms/step - loss: 0.5823 - accuracy: 0.7000\n",
            "Epoch 73/80\n",
            "5120/5120 [==============================] - 9s 2ms/step - loss: 0.5824 - accuracy: 0.6999\n",
            "Epoch 74/80\n",
            "5120/5120 [==============================] - 10s 2ms/step - loss: 0.5823 - accuracy: 0.7006\n",
            "Epoch 75/80\n",
            "5120/5120 [==============================] - 10s 2ms/step - loss: 0.5824 - accuracy: 0.6997\n",
            "Epoch 76/80\n",
            "5120/5120 [==============================] - 9s 2ms/step - loss: 0.5823 - accuracy: 0.7005\n",
            "Epoch 77/80\n",
            "5120/5120 [==============================] - 10s 2ms/step - loss: 0.5824 - accuracy: 0.7001\n",
            "Epoch 78/80\n",
            "5120/5120 [==============================] - 10s 2ms/step - loss: 0.5824 - accuracy: 0.6992\n",
            "Epoch 79/80\n",
            "5120/5120 [==============================] - 9s 2ms/step - loss: 0.5822 - accuracy: 0.6998\n",
            "Epoch 80/80\n",
            "5120/5120 [==============================] - 10s 2ms/step - loss: 0.5821 - accuracy: 0.7005\n"
          ]
        }
      ],
      "source": [
        "history = ann_model.fit(x_train, y_train, batch_size = 25, epochs = 80)"
      ]
    },
    {
      "cell_type": "markdown",
      "metadata": {
        "id": "OvqaDVkchVDR"
      },
      "source": [
        "# Predicting the test set results"
      ]
    },
    {
      "cell_type": "code",
      "execution_count": null,
      "metadata": {
        "id": "V1AHDb9hhXW7",
        "colab": {
          "base_uri": "https://localhost:8080/"
        },
        "outputId": "6ffdf316-7fd4-4ff2-b839-aa918957a0a7"
      },
      "outputs": [
        {
          "output_type": "stream",
          "name": "stdout",
          "text": [
            "1000/1000 [==============================] - 1s 1ms/step\n",
            "[[0.39229852 1.        ]\n",
            " [0.39532599 1.        ]\n",
            " [0.59152883 1.        ]\n",
            " ...\n",
            " [0.37576887 0.        ]\n",
            " [0.23462921 0.        ]\n",
            " [0.35326505 0.        ]]\n"
          ]
        }
      ],
      "source": [
        "y_pred = ann_model.predict(x_test)\n",
        "print(np.concatenate((y_pred.reshape(len(y_pred),1), y_test.reshape(len(y_test),1)),1))"
      ]
    },
    {
      "cell_type": "code",
      "source": [
        "ann_model.summary()"
      ],
      "metadata": {
        "colab": {
          "base_uri": "https://localhost:8080/"
        },
        "id": "DLM5YDrQcnOP",
        "outputId": "c46c7277-5654-4c70-f2b6-6d351fbb2d33"
      },
      "execution_count": null,
      "outputs": [
        {
          "output_type": "stream",
          "name": "stdout",
          "text": [
            "Model: \"sequential\"\n",
            "_________________________________________________________________\n",
            " Layer (type)                Output Shape              Param #   \n",
            "=================================================================\n",
            " dense (Dense)               (None, 16)                144       \n",
            "                                                                 \n",
            " dense_1 (Dense)             (None, 8)                 136       \n",
            "                                                                 \n",
            " dense_2 (Dense)             (None, 1)                 9         \n",
            "                                                                 \n",
            "=================================================================\n",
            "Total params: 289 (1.13 KB)\n",
            "Trainable params: 289 (1.13 KB)\n",
            "Non-trainable params: 0 (0.00 Byte)\n",
            "_________________________________________________________________\n"
          ]
        }
      ]
    },
    {
      "cell_type": "code",
      "source": [
        "#Visualizing history for accuracy\n",
        "plt.plot(history.history['accuracy'])\n",
        "plt.title('model accuracy')\n",
        "plt.ylabel('accuracy')\n",
        "plt.xlabel('epoch')\n",
        "plt.legend(['train', 'Validation'], loc='upper left')\n",
        "\n",
        "plt.show()"
      ],
      "metadata": {
        "colab": {
          "base_uri": "https://localhost:8080/",
          "height": 472
        },
        "id": "lmEeb9TBcpVm",
        "outputId": "5eb30201-e22f-4d29-f3cc-f6320cd78561"
      },
      "execution_count": null,
      "outputs": [
        {
          "output_type": "display_data",
          "data": {
            "text/plain": [
              "<Figure size 640x480 with 1 Axes>"
            ],
            "image/png": "[encoded data removed]"
          },
          "metadata": {}
        }
      ]
    },
    {
      "cell_type": "code",
      "source": [
        "# Visualizing history for loss\n",
        "plt.plot(history.history['loss'])\n",
        "plt.title('model loss')\n",
        "plt.ylabel('loss')\n",
        "plt.xlabel('epoch')\n",
        "plt.legend(['train', 'Validation'], loc='upper left')\n",
        "plt.show()"
      ],
      "metadata": {
        "colab": {
          "base_uri": "https://localhost:8080/",
          "height": 472
        },
        "id": "WxHDYunGcsot",
        "outputId": "c3c60c3e-cce5-4cdf-ac89-6938ed1b4fb5"
      },
      "execution_count": null,
      "outputs": [
        {
          "output_type": "display_data",
          "data": {
            "text/plain": [
              "<Figure size 640x480 with 1 Axes>"
            ],
            "image/png": "[encoded data removed]"
          },
          "metadata": {}
        }
      ]
    },
    {
      "cell_type": "markdown",
      "metadata": {
        "id": "gDN6YY-bTl1A"
      },
      "source": [
        "# Evaluate the model"
      ]
    },
    {
      "cell_type": "code",
      "execution_count": null,
      "metadata": {
        "colab": {
          "base_uri": "https://localhost:8080/"
        },
        "id": "0pWBp_aeTl1K",
        "outputId": "d34d8cb2-4d5f-4d4e-96ec-25190d367680"
      },
      "outputs": [
        {
          "output_type": "execute_result",
          "data": {
            "text/plain": [
              "0.1993729708323981"
            ]
          },
          "metadata": {},
          "execution_count": 57
        }
      ],
      "source": [
        "from sklearn.metrics import mean_squared_error\n",
        "mean_squared_error(y_test, y_pred)"
      ]
    }
  ],
  "metadata": {
    "colab": {
      "provenance": []
    },
    "kernelspec": {
      "display_name": "Python 3",
      "language": "python",
      "name": "python3"
    },
    "language_info": {
      "codemirror_mode": {
        "name": "ipython",
        "version": 3
      },
      "file_extension": ".py",
      "mimetype": "text/x-python",
      "name": "python",
      "nbconvert_exporter": "python",
      "pygments_lexer": "ipython3",
      "version": "3.9.16"
    }
  },
  "nbformat": 4,
  "nbformat_minor": 0
}